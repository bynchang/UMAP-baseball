{
 "cells": [
  {
   "cell_type": "code",
   "execution_count": 1,
   "metadata": {},
   "outputs": [],
   "source": [
    "import umap\n",
    "import umap.plot\n",
    "from bokeh.plotting import show, output_notebook\n",
    "from sklearn import preprocessing\n",
    "import hdbscan"
   ]
  },
  {
   "cell_type": "code",
   "execution_count": 2,
   "metadata": {},
   "outputs": [],
   "source": [
    "import numpy as np\n",
    "import pandas as pd\n",
    "import seaborn as sns"
   ]
  },
  {
   "cell_type": "code",
   "execution_count": 3,
   "metadata": {},
   "outputs": [],
   "source": [
    "from pyspark.sql import SparkSession\n",
    "from pyspark.sql import Window\n",
    "from pyspark.sql.types import *\n",
    "import pyspark.sql.functions as F"
   ]
  },
  {
   "cell_type": "code",
   "execution_count": 4,
   "metadata": {},
   "outputs": [],
   "source": [
    "sc = SparkSession.builder.getOrCreate()"
   ]
  },
  {
   "cell_type": "markdown",
   "metadata": {},
   "source": [
    "# Data preparation using pyspark"
   ]
  },
  {
   "cell_type": "markdown",
   "metadata": {},
   "source": [
    "The raw data we are going to use is MLB's pitch-by-pitch data scraped from the MLB website <a href=\"https://baseballsavant.mlb.com/\">Savant</a>. The parquet file in this repository includes all 3 million pitches from 2014 to 2019. The csv documentation could be found here: https://baseballsavant.mlb.com/csv-docs"
   ]
  },
  {
   "cell_type": "code",
   "execution_count": null,
   "metadata": {},
   "outputs": [],
   "source": [
    "baseball = sc.read.parquet('./baseball_savant.parquet')"
   ]
  },
  {
   "cell_type": "code",
   "execution_count": 6,
   "metadata": {},
   "outputs": [],
   "source": [
    "baseball = baseball.withColumn('pitcher_team',F.when(baseball.inning_topbot == 'Bot', baseball.away_team).otherwise(baseball.home_team))\n",
    "baseball = baseball.withColumn('batter_team',F.when(baseball.inning_topbot == 'Top', baseball.away_team).otherwise(baseball.home_team))\n",
    "baseball = baseball.withColumn('game_date',baseball.game_date.cast(DateType()))\n",
    "baseball = baseball.withColumn('game_year',F.year(baseball.game_date))\n",
    "\n",
    "window = Window.partitionBy('pitcher','game_year')\n",
    "baseball = baseball.withColumn('season_total_pitches',F.count('*').over(window))"
   ]
  },
  {
   "cell_type": "code",
   "execution_count": 7,
   "metadata": {},
   "outputs": [],
   "source": [
    "baseball = baseball.filter(baseball.pitch_type.isNotNull())"
   ]
  },
  {
   "cell_type": "code",
   "execution_count": 8,
   "metadata": {},
   "outputs": [
    {
     "name": "stdout",
     "output_type": "stream",
     "text": [
      "+----------+-------+\n",
      "|pitch_type|  count|\n",
      "+----------+-------+\n",
      "|        FT| 401239|\n",
      "|        SC|    113|\n",
      "|        SL| 583237|\n",
      "|        FC| 202561|\n",
      "|        EP|    867|\n",
      "|        FF|1296645|\n",
      "|        FS|  54809|\n",
      "|        PO|    630|\n",
      "|        KC|  89087|\n",
      "|        IN|   6390|\n",
      "|        CH| 378308|\n",
      "|        CU| 299183|\n",
      "|        FO|    845|\n",
      "|        UN|     20|\n",
      "|        KN|  11453|\n",
      "|        FA|     10|\n",
      "|        SI| 304441|\n",
      "+----------+-------+\n",
      "\n"
     ]
    }
   ],
   "source": [
    "baseball.groupby('pitch_type').count().show()"
   ]
  },
  {
   "cell_type": "code",
   "execution_count": 9,
   "metadata": {},
   "outputs": [],
   "source": [
    "# keeping pitches that are more common\n",
    "valid_pitch_type = ['CH','CU','FS','KC','SL','SI','FF','FC','FT']\n",
    "baseball = baseball.filter(baseball.pitch_type.isin(valid_pitch_type))"
   ]
  },
  {
   "cell_type": "markdown",
   "metadata": {},
   "source": [
    "# Create arsenal data on which we wish to run UMAP on"
   ]
  },
  {
   "cell_type": "markdown",
   "metadata": {},
   "source": [
    "Here we are interested in pitchers that pitched in the 2019 season with more than 200 pitches. The spark code produces the average release speed, horizontal movement, vertical movement, and proportion of each pitch type for each pitcher. At the end, we will generate a 36-dimensional dataframe that will be fed into UMAP."
   ]
  },
  {
   "cell_type": "code",
   "execution_count": 10,
   "metadata": {},
   "outputs": [],
   "source": [
    "arsenal = baseball.select('pitch_type','game_year','player_name','pitcher','p_throws','pitcher_team','season_total_pitches','pitcher','pfx_x','pfx_z','release_speed')"
   ]
  },
  {
   "cell_type": "code",
   "execution_count": 11,
   "metadata": {},
   "outputs": [],
   "source": [
    "arsenal = arsenal.filter('game_year = 2019 and season_total_pitches > 200').groupBy('pitcher','pitch_type','pitcher_team').\\\n",
    "agg(F.first('player_name').alias('player_name'),\n",
    "    F.first('p_throws').alias('p_throws'),\n",
    "    F.avg('release_speed').alias('avg_speed'), \n",
    "    F.avg('pfx_z').alias('avg_z'),\n",
    "    F.avg('pfx_x').alias('avg_x'),\n",
    "    F.count('*').alias('count'))"
   ]
  },
  {
   "cell_type": "code",
   "execution_count": 12,
   "metadata": {},
   "outputs": [],
   "source": [
    "window = Window.partitionBy('pitcher','pitcher_team')\n",
    "arsenal = arsenal.withColumn('proportion', F.col('count')/F.sum('count').over(window))"
   ]
  },
  {
   "cell_type": "code",
   "execution_count": 13,
   "metadata": {},
   "outputs": [],
   "source": [
    "# convert from a spark dataframe to a Pandas dataframe\n",
    "arsenal = arsenal.toPandas()"
   ]
  },
  {
   "cell_type": "code",
   "execution_count": 14,
   "metadata": {},
   "outputs": [
    {
     "data": {
      "text/html": [
       "<div>\n",
       "<style scoped>\n",
       "    .dataframe tbody tr th:only-of-type {\n",
       "        vertical-align: middle;\n",
       "    }\n",
       "\n",
       "    .dataframe tbody tr th {\n",
       "        vertical-align: top;\n",
       "    }\n",
       "\n",
       "    .dataframe thead th {\n",
       "        text-align: right;\n",
       "    }\n",
       "</style>\n",
       "<table border=\"1\" class=\"dataframe\">\n",
       "  <thead>\n",
       "    <tr style=\"text-align: right;\">\n",
       "      <th></th>\n",
       "      <th>pitcher</th>\n",
       "      <th>pitch_type</th>\n",
       "      <th>pitcher_team</th>\n",
       "      <th>player_name</th>\n",
       "      <th>p_throws</th>\n",
       "      <th>avg_speed</th>\n",
       "      <th>avg_z</th>\n",
       "      <th>avg_x</th>\n",
       "      <th>count</th>\n",
       "      <th>proportion</th>\n",
       "    </tr>\n",
       "  </thead>\n",
       "  <tbody>\n",
       "    <tr>\n",
       "      <th>2936</th>\n",
       "      <td>547888</td>\n",
       "      <td>SI</td>\n",
       "      <td>NYY</td>\n",
       "      <td>Masahiro Tanaka</td>\n",
       "      <td>R</td>\n",
       "      <td>90.335294</td>\n",
       "      <td>0.725872</td>\n",
       "      <td>-1.235809</td>\n",
       "      <td>136</td>\n",
       "      <td>0.045546</td>\n",
       "    </tr>\n",
       "    <tr>\n",
       "      <th>2937</th>\n",
       "      <td>547888</td>\n",
       "      <td>SL</td>\n",
       "      <td>NYY</td>\n",
       "      <td>Masahiro Tanaka</td>\n",
       "      <td>R</td>\n",
       "      <td>83.248861</td>\n",
       "      <td>0.108844</td>\n",
       "      <td>0.548934</td>\n",
       "      <td>1097</td>\n",
       "      <td>0.367381</td>\n",
       "    </tr>\n",
       "    <tr>\n",
       "      <th>2938</th>\n",
       "      <td>547888</td>\n",
       "      <td>FC</td>\n",
       "      <td>NYY</td>\n",
       "      <td>Masahiro Tanaka</td>\n",
       "      <td>R</td>\n",
       "      <td>87.460870</td>\n",
       "      <td>0.672999</td>\n",
       "      <td>-0.141720</td>\n",
       "      <td>46</td>\n",
       "      <td>0.015405</td>\n",
       "    </tr>\n",
       "    <tr>\n",
       "      <th>2939</th>\n",
       "      <td>547888</td>\n",
       "      <td>FS</td>\n",
       "      <td>NYY</td>\n",
       "      <td>Masahiro Tanaka</td>\n",
       "      <td>R</td>\n",
       "      <td>86.724876</td>\n",
       "      <td>0.428213</td>\n",
       "      <td>-1.064891</td>\n",
       "      <td>808</td>\n",
       "      <td>0.270596</td>\n",
       "    </tr>\n",
       "    <tr>\n",
       "      <th>2940</th>\n",
       "      <td>547888</td>\n",
       "      <td>CU</td>\n",
       "      <td>NYY</td>\n",
       "      <td>Masahiro Tanaka</td>\n",
       "      <td>R</td>\n",
       "      <td>76.069231</td>\n",
       "      <td>-0.750867</td>\n",
       "      <td>0.770970</td>\n",
       "      <td>91</td>\n",
       "      <td>0.030476</td>\n",
       "    </tr>\n",
       "    <tr>\n",
       "      <th>2941</th>\n",
       "      <td>547888</td>\n",
       "      <td>FF</td>\n",
       "      <td>NYY</td>\n",
       "      <td>Masahiro Tanaka</td>\n",
       "      <td>R</td>\n",
       "      <td>91.439851</td>\n",
       "      <td>1.334656</td>\n",
       "      <td>-0.840529</td>\n",
       "      <td>808</td>\n",
       "      <td>0.270596</td>\n",
       "    </tr>\n",
       "  </tbody>\n",
       "</table>\n",
       "</div>"
      ],
      "text/plain": [
       "      pitcher pitch_type pitcher_team      player_name p_throws  avg_speed  \\\n",
       "2936   547888         SI          NYY  Masahiro Tanaka        R  90.335294   \n",
       "2937   547888         SL          NYY  Masahiro Tanaka        R  83.248861   \n",
       "2938   547888         FC          NYY  Masahiro Tanaka        R  87.460870   \n",
       "2939   547888         FS          NYY  Masahiro Tanaka        R  86.724876   \n",
       "2940   547888         CU          NYY  Masahiro Tanaka        R  76.069231   \n",
       "2941   547888         FF          NYY  Masahiro Tanaka        R  91.439851   \n",
       "\n",
       "         avg_z     avg_x  count  proportion  \n",
       "2936  0.725872 -1.235809    136    0.045546  \n",
       "2937  0.108844  0.548934   1097    0.367381  \n",
       "2938  0.672999 -0.141720     46    0.015405  \n",
       "2939  0.428213 -1.064891    808    0.270596  \n",
       "2940 -0.750867  0.770970     91    0.030476  \n",
       "2941  1.334656 -0.840529    808    0.270596  "
      ]
     },
     "execution_count": 14,
     "metadata": {},
     "output_type": "execute_result"
    }
   ],
   "source": [
    "# data for Masahiro Tanaka\n",
    "arsenal[arsenal.player_name == 'Masahiro Tanaka']"
   ]
  },
  {
   "cell_type": "code",
   "execution_count": 15,
   "metadata": {},
   "outputs": [],
   "source": [
    "# sometimes the MLB classify pitches incorrectly, we want to get rid of those records\n",
    "arsenal2 = arsenal[arsenal.proportion > 0.01]"
   ]
  },
  {
   "cell_type": "code",
   "execution_count": 16,
   "metadata": {},
   "outputs": [],
   "source": [
    "# transform the data so that each row now represents a pitcher\n",
    "df = arsenal2.pivot_table(index = ['pitcher','player_name','p_throws','pitcher_team'], columns = 'pitch_type', values = ['avg_x','avg_z','avg_speed','proportion'])\n",
    "df.columns = [x[0] + '_' + x[1] for x in df.columns]\n",
    "df.reset_index(inplace = True)\n",
    "df.fillna(0,inplace = True)"
   ]
  },
  {
   "cell_type": "code",
   "execution_count": 17,
   "metadata": {},
   "outputs": [],
   "source": [
    "pd.set_option('display.max_columns', None)"
   ]
  },
  {
   "cell_type": "code",
   "execution_count": 18,
   "metadata": {},
   "outputs": [
    {
     "data": {
      "text/html": [
       "<div>\n",
       "<style scoped>\n",
       "    .dataframe tbody tr th:only-of-type {\n",
       "        vertical-align: middle;\n",
       "    }\n",
       "\n",
       "    .dataframe tbody tr th {\n",
       "        vertical-align: top;\n",
       "    }\n",
       "\n",
       "    .dataframe thead th {\n",
       "        text-align: right;\n",
       "    }\n",
       "</style>\n",
       "<table border=\"1\" class=\"dataframe\">\n",
       "  <thead>\n",
       "    <tr style=\"text-align: right;\">\n",
       "      <th></th>\n",
       "      <th>pitcher</th>\n",
       "      <th>player_name</th>\n",
       "      <th>p_throws</th>\n",
       "      <th>pitcher_team</th>\n",
       "      <th>avg_speed_CH</th>\n",
       "      <th>avg_speed_CU</th>\n",
       "      <th>avg_speed_FC</th>\n",
       "      <th>avg_speed_FF</th>\n",
       "      <th>avg_speed_FS</th>\n",
       "      <th>avg_speed_FT</th>\n",
       "      <th>avg_speed_KC</th>\n",
       "      <th>avg_speed_SI</th>\n",
       "      <th>avg_speed_SL</th>\n",
       "      <th>avg_x_CH</th>\n",
       "      <th>avg_x_CU</th>\n",
       "      <th>avg_x_FC</th>\n",
       "      <th>avg_x_FF</th>\n",
       "      <th>avg_x_FS</th>\n",
       "      <th>avg_x_FT</th>\n",
       "      <th>avg_x_KC</th>\n",
       "      <th>avg_x_SI</th>\n",
       "      <th>avg_x_SL</th>\n",
       "      <th>avg_z_CH</th>\n",
       "      <th>avg_z_CU</th>\n",
       "      <th>avg_z_FC</th>\n",
       "      <th>avg_z_FF</th>\n",
       "      <th>avg_z_FS</th>\n",
       "      <th>avg_z_FT</th>\n",
       "      <th>avg_z_KC</th>\n",
       "      <th>avg_z_SI</th>\n",
       "      <th>avg_z_SL</th>\n",
       "      <th>proportion_CH</th>\n",
       "      <th>proportion_CU</th>\n",
       "      <th>proportion_FC</th>\n",
       "      <th>proportion_FF</th>\n",
       "      <th>proportion_FS</th>\n",
       "      <th>proportion_FT</th>\n",
       "      <th>proportion_KC</th>\n",
       "      <th>proportion_SI</th>\n",
       "      <th>proportion_SL</th>\n",
       "    </tr>\n",
       "  </thead>\n",
       "  <tbody>\n",
       "    <tr>\n",
       "      <th>144</th>\n",
       "      <td>518876</td>\n",
       "      <td>Merrill Kelly</td>\n",
       "      <td>R</td>\n",
       "      <td>ARI</td>\n",
       "      <td>86.002010</td>\n",
       "      <td>80.589241</td>\n",
       "      <td>89.859184</td>\n",
       "      <td>91.957324</td>\n",
       "      <td>0.0</td>\n",
       "      <td>0.000000</td>\n",
       "      <td>0.0</td>\n",
       "      <td>91.546341</td>\n",
       "      <td>0.000000</td>\n",
       "      <td>-1.047555</td>\n",
       "      <td>0.796450</td>\n",
       "      <td>0.176486</td>\n",
       "      <td>-0.387549</td>\n",
       "      <td>0.0</td>\n",
       "      <td>0.000000</td>\n",
       "      <td>0.0</td>\n",
       "      <td>-1.154523</td>\n",
       "      <td>0.000000</td>\n",
       "      <td>1.116711</td>\n",
       "      <td>-1.040778</td>\n",
       "      <td>0.895485</td>\n",
       "      <td>1.274787</td>\n",
       "      <td>0.0</td>\n",
       "      <td>0.000000</td>\n",
       "      <td>0.0</td>\n",
       "      <td>0.734998</td>\n",
       "      <td>0.000000</td>\n",
       "      <td>0.134369</td>\n",
       "      <td>0.213369</td>\n",
       "      <td>0.181972</td>\n",
       "      <td>0.373396</td>\n",
       "      <td>0.0</td>\n",
       "      <td>0.000000</td>\n",
       "      <td>0.0</td>\n",
       "      <td>0.096894</td>\n",
       "      <td>0.000000</td>\n",
       "    </tr>\n",
       "    <tr>\n",
       "      <th>587</th>\n",
       "      <td>641838</td>\n",
       "      <td>Kevin McCarthy</td>\n",
       "      <td>R</td>\n",
       "      <td>KC</td>\n",
       "      <td>83.879793</td>\n",
       "      <td>82.345833</td>\n",
       "      <td>0.000000</td>\n",
       "      <td>88.900000</td>\n",
       "      <td>0.0</td>\n",
       "      <td>0.000000</td>\n",
       "      <td>0.0</td>\n",
       "      <td>91.071545</td>\n",
       "      <td>83.389655</td>\n",
       "      <td>-1.247969</td>\n",
       "      <td>0.244396</td>\n",
       "      <td>0.000000</td>\n",
       "      <td>-0.192759</td>\n",
       "      <td>0.0</td>\n",
       "      <td>0.000000</td>\n",
       "      <td>0.0</td>\n",
       "      <td>-1.177328</td>\n",
       "      <td>0.024866</td>\n",
       "      <td>0.334560</td>\n",
       "      <td>0.178350</td>\n",
       "      <td>0.000000</td>\n",
       "      <td>0.666853</td>\n",
       "      <td>0.0</td>\n",
       "      <td>0.000000</td>\n",
       "      <td>0.0</td>\n",
       "      <td>0.358008</td>\n",
       "      <td>0.297627</td>\n",
       "      <td>0.219818</td>\n",
       "      <td>0.027335</td>\n",
       "      <td>0.000000</td>\n",
       "      <td>0.159453</td>\n",
       "      <td>0.0</td>\n",
       "      <td>0.000000</td>\n",
       "      <td>0.0</td>\n",
       "      <td>0.560364</td>\n",
       "      <td>0.033030</td>\n",
       "    </tr>\n",
       "    <tr>\n",
       "      <th>365</th>\n",
       "      <td>596027</td>\n",
       "      <td>Dillon Maples</td>\n",
       "      <td>R</td>\n",
       "      <td>CHC</td>\n",
       "      <td>0.000000</td>\n",
       "      <td>84.811765</td>\n",
       "      <td>0.000000</td>\n",
       "      <td>96.733824</td>\n",
       "      <td>0.0</td>\n",
       "      <td>96.818182</td>\n",
       "      <td>0.0</td>\n",
       "      <td>0.000000</td>\n",
       "      <td>89.478014</td>\n",
       "      <td>0.000000</td>\n",
       "      <td>1.099596</td>\n",
       "      <td>0.000000</td>\n",
       "      <td>-0.430334</td>\n",
       "      <td>0.0</td>\n",
       "      <td>-0.911040</td>\n",
       "      <td>0.0</td>\n",
       "      <td>0.000000</td>\n",
       "      <td>1.053154</td>\n",
       "      <td>0.000000</td>\n",
       "      <td>-1.219996</td>\n",
       "      <td>0.000000</td>\n",
       "      <td>0.913305</td>\n",
       "      <td>0.0</td>\n",
       "      <td>0.688744</td>\n",
       "      <td>0.0</td>\n",
       "      <td>0.000000</td>\n",
       "      <td>-0.176859</td>\n",
       "      <td>0.000000</td>\n",
       "      <td>0.071730</td>\n",
       "      <td>0.000000</td>\n",
       "      <td>0.286920</td>\n",
       "      <td>0.0</td>\n",
       "      <td>0.046414</td>\n",
       "      <td>0.0</td>\n",
       "      <td>0.000000</td>\n",
       "      <td>0.594937</td>\n",
       "    </tr>\n",
       "    <tr>\n",
       "      <th>518</th>\n",
       "      <td>621389</td>\n",
       "      <td>Ty Blach</td>\n",
       "      <td>L</td>\n",
       "      <td>SF</td>\n",
       "      <td>79.475000</td>\n",
       "      <td>75.766667</td>\n",
       "      <td>85.000000</td>\n",
       "      <td>0.000000</td>\n",
       "      <td>0.0</td>\n",
       "      <td>0.000000</td>\n",
       "      <td>0.0</td>\n",
       "      <td>90.489610</td>\n",
       "      <td>81.928571</td>\n",
       "      <td>1.480195</td>\n",
       "      <td>-0.799699</td>\n",
       "      <td>0.100955</td>\n",
       "      <td>0.000000</td>\n",
       "      <td>0.0</td>\n",
       "      <td>0.000000</td>\n",
       "      <td>0.0</td>\n",
       "      <td>1.356754</td>\n",
       "      <td>-0.316563</td>\n",
       "      <td>0.467096</td>\n",
       "      <td>-0.994453</td>\n",
       "      <td>0.427241</td>\n",
       "      <td>0.000000</td>\n",
       "      <td>0.0</td>\n",
       "      <td>0.000000</td>\n",
       "      <td>0.0</td>\n",
       "      <td>0.870515</td>\n",
       "      <td>0.010473</td>\n",
       "      <td>0.251969</td>\n",
       "      <td>0.070866</td>\n",
       "      <td>0.015748</td>\n",
       "      <td>0.000000</td>\n",
       "      <td>0.0</td>\n",
       "      <td>0.000000</td>\n",
       "      <td>0.0</td>\n",
       "      <td>0.606299</td>\n",
       "      <td>0.055118</td>\n",
       "    </tr>\n",
       "    <tr>\n",
       "      <th>385</th>\n",
       "      <td>605130</td>\n",
       "      <td>Scott Barlow</td>\n",
       "      <td>R</td>\n",
       "      <td>KC</td>\n",
       "      <td>0.000000</td>\n",
       "      <td>77.182081</td>\n",
       "      <td>0.000000</td>\n",
       "      <td>94.134505</td>\n",
       "      <td>0.0</td>\n",
       "      <td>93.835577</td>\n",
       "      <td>0.0</td>\n",
       "      <td>0.000000</td>\n",
       "      <td>83.763781</td>\n",
       "      <td>0.000000</td>\n",
       "      <td>1.244309</td>\n",
       "      <td>0.000000</td>\n",
       "      <td>-0.327209</td>\n",
       "      <td>0.0</td>\n",
       "      <td>-1.064226</td>\n",
       "      <td>0.0</td>\n",
       "      <td>0.000000</td>\n",
       "      <td>0.696746</td>\n",
       "      <td>0.000000</td>\n",
       "      <td>-1.000788</td>\n",
       "      <td>0.000000</td>\n",
       "      <td>1.131643</td>\n",
       "      <td>0.0</td>\n",
       "      <td>0.605932</td>\n",
       "      <td>0.0</td>\n",
       "      <td>0.000000</td>\n",
       "      <td>-0.288613</td>\n",
       "      <td>0.000000</td>\n",
       "      <td>0.133077</td>\n",
       "      <td>0.000000</td>\n",
       "      <td>0.350000</td>\n",
       "      <td>0.0</td>\n",
       "      <td>0.080000</td>\n",
       "      <td>0.0</td>\n",
       "      <td>0.000000</td>\n",
       "      <td>0.435385</td>\n",
       "    </tr>\n",
       "  </tbody>\n",
       "</table>\n",
       "</div>"
      ],
      "text/plain": [
       "     pitcher     player_name p_throws pitcher_team  avg_speed_CH  \\\n",
       "144   518876   Merrill Kelly        R          ARI     86.002010   \n",
       "587   641838  Kevin McCarthy        R           KC     83.879793   \n",
       "365   596027   Dillon Maples        R          CHC      0.000000   \n",
       "518   621389        Ty Blach        L           SF     79.475000   \n",
       "385   605130    Scott Barlow        R           KC      0.000000   \n",
       "\n",
       "     avg_speed_CU  avg_speed_FC  avg_speed_FF  avg_speed_FS  avg_speed_FT  \\\n",
       "144     80.589241     89.859184     91.957324           0.0      0.000000   \n",
       "587     82.345833      0.000000     88.900000           0.0      0.000000   \n",
       "365     84.811765      0.000000     96.733824           0.0     96.818182   \n",
       "518     75.766667     85.000000      0.000000           0.0      0.000000   \n",
       "385     77.182081      0.000000     94.134505           0.0     93.835577   \n",
       "\n",
       "     avg_speed_KC  avg_speed_SI  avg_speed_SL  avg_x_CH  avg_x_CU  avg_x_FC  \\\n",
       "144           0.0     91.546341      0.000000 -1.047555  0.796450  0.176486   \n",
       "587           0.0     91.071545     83.389655 -1.247969  0.244396  0.000000   \n",
       "365           0.0      0.000000     89.478014  0.000000  1.099596  0.000000   \n",
       "518           0.0     90.489610     81.928571  1.480195 -0.799699  0.100955   \n",
       "385           0.0      0.000000     83.763781  0.000000  1.244309  0.000000   \n",
       "\n",
       "     avg_x_FF  avg_x_FS  avg_x_FT  avg_x_KC  avg_x_SI  avg_x_SL  avg_z_CH  \\\n",
       "144 -0.387549       0.0  0.000000       0.0 -1.154523  0.000000  1.116711   \n",
       "587 -0.192759       0.0  0.000000       0.0 -1.177328  0.024866  0.334560   \n",
       "365 -0.430334       0.0 -0.911040       0.0  0.000000  1.053154  0.000000   \n",
       "518  0.000000       0.0  0.000000       0.0  1.356754 -0.316563  0.467096   \n",
       "385 -0.327209       0.0 -1.064226       0.0  0.000000  0.696746  0.000000   \n",
       "\n",
       "     avg_z_CU  avg_z_FC  avg_z_FF  avg_z_FS  avg_z_FT  avg_z_KC  avg_z_SI  \\\n",
       "144 -1.040778  0.895485  1.274787       0.0  0.000000       0.0  0.734998   \n",
       "587  0.178350  0.000000  0.666853       0.0  0.000000       0.0  0.358008   \n",
       "365 -1.219996  0.000000  0.913305       0.0  0.688744       0.0  0.000000   \n",
       "518 -0.994453  0.427241  0.000000       0.0  0.000000       0.0  0.870515   \n",
       "385 -1.000788  0.000000  1.131643       0.0  0.605932       0.0  0.000000   \n",
       "\n",
       "     avg_z_SL  proportion_CH  proportion_CU  proportion_FC  proportion_FF  \\\n",
       "144  0.000000       0.134369       0.213369       0.181972       0.373396   \n",
       "587  0.297627       0.219818       0.027335       0.000000       0.159453   \n",
       "365 -0.176859       0.000000       0.071730       0.000000       0.286920   \n",
       "518  0.010473       0.251969       0.070866       0.015748       0.000000   \n",
       "385 -0.288613       0.000000       0.133077       0.000000       0.350000   \n",
       "\n",
       "     proportion_FS  proportion_FT  proportion_KC  proportion_SI  proportion_SL  \n",
       "144            0.0       0.000000            0.0       0.096894       0.000000  \n",
       "587            0.0       0.000000            0.0       0.560364       0.033030  \n",
       "365            0.0       0.046414            0.0       0.000000       0.594937  \n",
       "518            0.0       0.000000            0.0       0.606299       0.055118  \n",
       "385            0.0       0.080000            0.0       0.000000       0.435385  "
      ]
     },
     "execution_count": 18,
     "metadata": {},
     "output_type": "execute_result"
    }
   ],
   "source": [
    "df.sample(5)"
   ]
  },
  {
   "cell_type": "code",
   "execution_count": 19,
   "metadata": {},
   "outputs": [],
   "source": [
    "df_umap = df.drop(['pitcher','player_name','p_throws','pitcher_team'],axis = 1)"
   ]
  },
  {
   "cell_type": "code",
   "execution_count": 20,
   "metadata": {},
   "outputs": [],
   "source": [
    "# Scale each column by its maximum absolute value\n",
    "cols_to_scale = [col for col in df if col.startswith('avg')]\n",
    "preprocessor = preprocessing.MaxAbsScaler().fit(df_umap[cols_to_scale])\n",
    "df_umap[cols_to_scale] = preprocessor.transform(df_umap[cols_to_scale])"
   ]
  },
  {
   "cell_type": "code",
   "execution_count": 21,
   "metadata": {},
   "outputs": [
    {
     "data": {
      "text/plain": [
       "avg_speed_CH     0.000000\n",
       "avg_speed_CU     0.928290\n",
       "avg_speed_FC     0.939670\n",
       "avg_speed_FF     0.975593\n",
       "avg_speed_FS     0.953298\n",
       "avg_speed_FT     0.000000\n",
       "avg_speed_KC     0.000000\n",
       "avg_speed_SI     0.000000\n",
       "avg_speed_SL     0.918602\n",
       "avg_x_CH         0.000000\n",
       "avg_x_CU         0.378997\n",
       "avg_x_FC         0.061649\n",
       "avg_x_FF        -0.591736\n",
       "avg_x_FS        -0.489777\n",
       "avg_x_FT         0.000000\n",
       "avg_x_KC         0.000000\n",
       "avg_x_SI         0.000000\n",
       "avg_x_SL         0.321928\n",
       "avg_z_CH         0.000000\n",
       "avg_z_CU        -0.457214\n",
       "avg_z_FC         0.558999\n",
       "avg_z_FF         0.633422\n",
       "avg_z_FS         0.102651\n",
       "avg_z_FT         0.000000\n",
       "avg_z_KC         0.000000\n",
       "avg_z_SI         0.000000\n",
       "avg_z_SL         0.035081\n",
       "proportion_CH    0.000000\n",
       "proportion_CU    0.174842\n",
       "proportion_FC    0.225475\n",
       "proportion_FF    0.432753\n",
       "proportion_FS    0.135285\n",
       "proportion_FT    0.000000\n",
       "proportion_KC    0.000000\n",
       "proportion_SI    0.000000\n",
       "proportion_SL    0.031646\n",
       "Name: 190, dtype: float64"
      ]
     },
     "execution_count": 21,
     "metadata": {},
     "output_type": "execute_result"
    }
   ],
   "source": [
    "# 36-dimensional data that will be fed into the UMAP algorithm.\n",
    "df_umap.iloc[190]"
   ]
  },
  {
   "cell_type": "markdown",
   "metadata": {},
   "source": [
    "# Apply UMAP on pitcher arsenal"
   ]
  },
  {
   "cell_type": "markdown",
   "metadata": {},
   "source": [
    "Here we apply the UMAP algorithm and project the data onto a 2 dimensional space. There are two hyper-parameters: n_neighbors, the number of nearest neighbors when constructing the graph in the original space, and min_dist, the minimum distance between points in the low-dimensional embedding space. Increasing n_neighbors would let us preserve more the global structure of the data, while decreasing n_neighbors let us focus on the local structure of the data. The second hyper-parameter min_dist is more of a aesthetic hyper-paramter."
   ]
  },
  {
   "cell_type": "code",
   "execution_count": 22,
   "metadata": {},
   "outputs": [],
   "source": [
    "# N_components is the dimension that the data is projected onto\n",
    "N_COMPONENTS = 2\n",
    "METRIC = 'cosine'\n",
    "transformer = umap.UMAP(n_components = N_COMPONENTS, random_state = 0,n_neighbors=30,min_dist=0.0, metric = METRIC).fit(df_umap)\n",
    "embedding = transformer.transform(df_umap)"
   ]
  },
  {
   "cell_type": "markdown",
   "metadata": {},
   "source": [
    "# Apply HDBSCAN on the UMAP embeddings"
   ]
  },
  {
   "cell_type": "markdown",
   "metadata": {},
   "source": [
    "After learning a low-dimensional representation for the pitcher data, we could apply a clustering algorithm on the embeddings to detect pitcher clusters. In particular, I chose HDBSCAN. HDBSCAN is a hierarchical density-based clustering algorithm. Unlike K-Means, HDBSCAN works well with clusters having varying densities and shapes. The main hyper-parameter we would control is the minimum cluster size, which I set to be 15.\n",
    "\n",
    "The HDBSCAN gives us 17 clusters:"
   ]
  },
  {
   "cell_type": "code",
   "execution_count": 23,
   "metadata": {},
   "outputs": [
    {
     "data": {
      "text/plain": [
       "17"
      ]
     },
     "execution_count": 23,
     "metadata": {},
     "output_type": "execute_result"
    }
   ],
   "source": [
    "# Fit HDBSCAN with minimum cluster size 15\n",
    "clusterer = hdbscan.HDBSCAN(min_cluster_size=15)\n",
    "clusterer.fit(embedding)\n",
    "# number of clusters that are detected by HDBSCAN\n",
    "clusterer.labels_.max()+1"
   ]
  },
  {
   "cell_type": "code",
   "execution_count": 24,
   "metadata": {},
   "outputs": [],
   "source": [
    "embedding_dat = pd.DataFrame(np.column_stack([embedding,clusterer.labels_,df[['player_name','p_throws','pitcher_team']]]),\n",
    "                             columns = ['x{}'.format(i) for i in range(1,N_COMPONENTS+1)]+['cluster','player_name','p_throws','team'])\\\n",
    "                            .sort_values('cluster')"
   ]
  },
  {
   "cell_type": "code",
   "execution_count": 25,
   "metadata": {},
   "outputs": [
    {
     "data": {
      "text/html": [
       "<div>\n",
       "<style scoped>\n",
       "    .dataframe tbody tr th:only-of-type {\n",
       "        vertical-align: middle;\n",
       "    }\n",
       "\n",
       "    .dataframe tbody tr th {\n",
       "        vertical-align: top;\n",
       "    }\n",
       "\n",
       "    .dataframe thead th {\n",
       "        text-align: right;\n",
       "    }\n",
       "</style>\n",
       "<table border=\"1\" class=\"dataframe\">\n",
       "  <thead>\n",
       "    <tr style=\"text-align: right;\">\n",
       "      <th></th>\n",
       "      <th>x1</th>\n",
       "      <th>x2</th>\n",
       "      <th>cluster</th>\n",
       "      <th>player_name</th>\n",
       "      <th>p_throws</th>\n",
       "      <th>team</th>\n",
       "    </tr>\n",
       "  </thead>\n",
       "  <tbody>\n",
       "    <tr>\n",
       "      <th>638</th>\n",
       "      <td>2.42754</td>\n",
       "      <td>9.34763</td>\n",
       "      <td>12</td>\n",
       "      <td>Jack Flaherty</td>\n",
       "      <td>R</td>\n",
       "      <td>STL</td>\n",
       "    </tr>\n",
       "    <tr>\n",
       "      <th>125</th>\n",
       "      <td>0.98935</td>\n",
       "      <td>9.56918</td>\n",
       "      <td>11</td>\n",
       "      <td>Juan Nicasio</td>\n",
       "      <td>R</td>\n",
       "      <td>PHI</td>\n",
       "    </tr>\n",
       "    <tr>\n",
       "      <th>74</th>\n",
       "      <td>-1.47851</td>\n",
       "      <td>13.3971</td>\n",
       "      <td>7</td>\n",
       "      <td>Jhoulys Chacin</td>\n",
       "      <td>R</td>\n",
       "      <td>BOS</td>\n",
       "    </tr>\n",
       "    <tr>\n",
       "      <th>591</th>\n",
       "      <td>3.78699</td>\n",
       "      <td>4.43672</td>\n",
       "      <td>13</td>\n",
       "      <td>Emilio Pagan</td>\n",
       "      <td>R</td>\n",
       "      <td>TB</td>\n",
       "    </tr>\n",
       "    <tr>\n",
       "      <th>587</th>\n",
       "      <td>8.14456</td>\n",
       "      <td>7.95036</td>\n",
       "      <td>10</td>\n",
       "      <td>Kevin McCarthy</td>\n",
       "      <td>R</td>\n",
       "      <td>KC</td>\n",
       "    </tr>\n",
       "    <tr>\n",
       "      <th>200</th>\n",
       "      <td>11.4319</td>\n",
       "      <td>0.514317</td>\n",
       "      <td>1</td>\n",
       "      <td>Jay Jackson</td>\n",
       "      <td>R</td>\n",
       "      <td>MIL</td>\n",
       "    </tr>\n",
       "    <tr>\n",
       "      <th>496</th>\n",
       "      <td>6.31152</td>\n",
       "      <td>3.53185</td>\n",
       "      <td>14</td>\n",
       "      <td>Hunter Wood</td>\n",
       "      <td>R</td>\n",
       "      <td>CLE</td>\n",
       "    </tr>\n",
       "    <tr>\n",
       "      <th>529</th>\n",
       "      <td>2.95036</td>\n",
       "      <td>12.5205</td>\n",
       "      <td>4</td>\n",
       "      <td>Luis Castillo</td>\n",
       "      <td>R</td>\n",
       "      <td>CIN</td>\n",
       "    </tr>\n",
       "    <tr>\n",
       "      <th>177</th>\n",
       "      <td>2.37082</td>\n",
       "      <td>5.1517</td>\n",
       "      <td>-1</td>\n",
       "      <td>Shawn Armstrong</td>\n",
       "      <td>R</td>\n",
       "      <td>BAL</td>\n",
       "    </tr>\n",
       "    <tr>\n",
       "      <th>261</th>\n",
       "      <td>0.668301</td>\n",
       "      <td>0.457897</td>\n",
       "      <td>5</td>\n",
       "      <td>Tyler Skaggs</td>\n",
       "      <td>L</td>\n",
       "      <td>LAA</td>\n",
       "    </tr>\n",
       "  </tbody>\n",
       "</table>\n",
       "</div>"
      ],
      "text/plain": [
       "           x1        x2 cluster      player_name p_throws team\n",
       "638   2.42754   9.34763      12    Jack Flaherty        R  STL\n",
       "125   0.98935   9.56918      11     Juan Nicasio        R  PHI\n",
       "74   -1.47851   13.3971       7   Jhoulys Chacin        R  BOS\n",
       "591   3.78699   4.43672      13     Emilio Pagan        R   TB\n",
       "587   8.14456   7.95036      10   Kevin McCarthy        R   KC\n",
       "200   11.4319  0.514317       1      Jay Jackson        R  MIL\n",
       "496   6.31152   3.53185      14      Hunter Wood        R  CLE\n",
       "529   2.95036   12.5205       4    Luis Castillo        R  CIN\n",
       "177   2.37082    5.1517      -1  Shawn Armstrong        R  BAL\n",
       "261  0.668301  0.457897       5     Tyler Skaggs        L  LAA"
      ]
     },
     "execution_count": 25,
     "metadata": {},
     "output_type": "execute_result"
    }
   ],
   "source": [
    "embedding_dat.sample(10)"
   ]
  },
  {
   "cell_type": "markdown",
   "metadata": {},
   "source": [
    "# Visualization of the embeddings"
   ]
  },
  {
   "cell_type": "markdown",
   "metadata": {},
   "source": [
    "## Points colored by handedness:\n",
    "We are able to separate the left-handed and right-handed pitchers pretty well."
   ]
  },
  {
   "cell_type": "code",
   "execution_count": 26,
   "metadata": {},
   "outputs": [
    {
     "data": {
      "text/plain": [
       "<matplotlib.axes._subplots.AxesSubplot at 0x1a293d1490>"
      ]
     },
     "execution_count": 26,
     "metadata": {},
     "output_type": "execute_result"
    },
    {
     "data": {
      "image/png": "[encoded data removed]",
      "text/plain": [
       "<Figure size 800x800 with 1 Axes>"
      ]
     },
     "metadata": {},
     "output_type": "display_data"
    }
   ],
   "source": [
    "umap.plot.points(transformer, labels = df.p_throws, theme = 'fire')"
   ]
  },
  {
   "cell_type": "markdown",
   "metadata": {},
   "source": [
    "## Points colored by cluster membership:"
   ]
  },
  {
   "cell_type": "code",
   "execution_count": 27,
   "metadata": {},
   "outputs": [
    {
     "data": {
      "text/plain": [
       "<matplotlib.axes._subplots.AxesSubplot at 0x1a29e5b350>"
      ]
     },
     "execution_count": 27,
     "metadata": {},
     "output_type": "execute_result"
    },
    {
     "data": {
      "image/png": "[encoded data removed]",
      "text/plain": [
       "<Figure size 800x800 with 1 Axes>"
      ]
     },
     "metadata": {},
     "output_type": "display_data"
    }
   ],
   "source": [
    "# -1 represents points that are viewed as noise by the HDBSCAN\n",
    "umap.plot.points(transformer, labels = clusterer.labels_, theme = 'fire')"
   ]
  },
  {
   "cell_type": "markdown",
   "metadata": {},
   "source": [
    "# Conclusion"
   ]
  },
  {
   "cell_type": "markdown",
   "metadata": {},
   "source": [
    "By applying UMAP, we were able to learn a low-dimensional latent represenation of MLB pitchers. We successfully visualized a 36-dimensional pithcer arsenal data and were able to detect potential pitcher clusters. Utilizing the cluster information, one could then investigate how a batter play against different types of pitchers. It thus provides useful insights into how a manager could design and optimize a batting lineup."
   ]
  }
 ],
 "metadata": {
  "kernelspec": {
   "display_name": "Python 3",
   "language": "python",
   "name": "python3"
  },
  "language_info": {
   "codemirror_mode": {
    "name": "ipython",
    "version": 3
   },
   "file_extension": ".py",
   "mimetype": "text/x-python",
   "name": "python",
   "nbconvert_exporter": "python",
   "pygments_lexer": "ipython3",
   "version": "3.7.7"
  }
 },
 "nbformat": 4,
 "nbformat_minor": 4
}
